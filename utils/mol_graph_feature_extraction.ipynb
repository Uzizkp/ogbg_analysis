{
 "cells": [
  {
   "cell_type": "code",
   "execution_count": null,
   "id": "1fcbb1f7-2cf6-42ba-8ea3-fa204485c0b7",
   "metadata": {},
   "outputs": [],
   "source": [
    "import pandas as pd\n",
    "import numpy as np\n",
    "import warnings\n",
    "from sklearn.preprocessing import scale\n",
    "from sklearn.model_selection import cross_val_score\n",
    "from sklearn.linear_model import LogisticRegression\n",
    "from sklearn.tree import DecisionTreeClassifier\n",
    "from sklearn.svm import SVC\n",
    "from sklearn.ensemble import RandomForestClassifier\n",
    "from sklearn.ensemble import GradientBoostingClassifier\n",
    "from xgboost.sklearn import XGBClassifier\n",
    "import lightgbm as lgb\n",
    "\n",
    "from ogb.graphproppred import PygGraphPropPredDataset, Evaluator\n",
    "\n",
    "from ogb.utils.features import (allowable_features, atom_to_feature_vector,\n",
    " bond_to_feature_vector, atom_feature_vector_to_dict, bond_feature_vector_to_dict) \n",
    "from ogb.utils.features import get_atom_feature_dims, get_bond_feature_dims \n",
    "\n",
    "from gtrick import ogb2fp\n",
    "\n",
    "from tqdm.auto import tqdm\n",
    "from rdkit import Chem\n",
    "\n",
    "import datetime\n",
    "from itertools import combinations\n",
    "import torch\n",
    "\n",
    "from sklearn.model_selection import GridSearchCV\n",
    "\n",
    "import logging"
   ]
  },
  {
   "cell_type": "code",
   "execution_count": null,
   "id": "23657426-db2d-4bc5-b072-39b86aa7459f",
   "metadata": {},
   "outputs": [],
   "source": [
    "Class MolGraphFeatureExtra:\n",
    "    T_v = [0]*119\n",
    "    T_e = [0]*5\n",
    "    C = 0\n",
    "    L_v = [0]\n",
    "    L_e = [0]\n",
    "    def GetNodeFeatures(SMILE):\n",
    "        mol = Chem.MolFromSmiles(SMILE)\n",
    "        for atom in mol.GetAtoms():\n",
    "            atom_idx = atom.GetAtomicNum()-1\n",
    "            T_v[atom_idx] = \n",
    "        "
   ]
  }
 ],
 "metadata": {
  "kernelspec": {
   "display_name": "Python 3 (ipykernel)",
   "language": "python",
   "name": "python3"
  },
  "language_info": {
   "codemirror_mode": {
    "name": "ipython",
    "version": 3
   },
   "file_extension": ".py",
   "mimetype": "text/x-python",
   "name": "python",
   "nbconvert_exporter": "python",
   "pygments_lexer": "ipython3",
   "version": "3.7.13"
  }
 },
 "nbformat": 4,
 "nbformat_minor": 5
}
